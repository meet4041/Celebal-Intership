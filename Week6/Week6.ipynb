{
 "cells": [
  {
   "cell_type": "code",
   "execution_count": 1,
   "id": "cccf52e3-2a79-4223-88d1-0ae2c34e4068",
   "metadata": {},
   "outputs": [],
   "source": [
    "import pandas as pd\n",
    "import numpy as np\n",
    "from sklearn.model_selection import train_test_split, GridSearchCV, RandomizedSearchCV\n",
    "from sklearn.linear_model import LogisticRegression\n",
    "from sklearn.ensemble import RandomForestClassifier\n",
    "from sklearn.svm import SVC\n",
    "from sklearn.metrics import accuracy_score, precision_score, recall_score, f1_score"
   ]
  },
  {
   "cell_type": "code",
   "execution_count": 2,
   "id": "c061b5ae-abf4-44bd-bde8-eb389fffd96e",
   "metadata": {},
   "outputs": [
    {
     "data": {
      "text/html": [
       "<div>\n",
       "<style scoped>\n",
       "    .dataframe tbody tr th:only-of-type {\n",
       "        vertical-align: middle;\n",
       "    }\n",
       "\n",
       "    .dataframe tbody tr th {\n",
       "        vertical-align: top;\n",
       "    }\n",
       "\n",
       "    .dataframe thead th {\n",
       "        text-align: right;\n",
       "    }\n",
       "</style>\n",
       "<table border=\"1\" class=\"dataframe\">\n",
       "  <thead>\n",
       "    <tr style=\"text-align: right;\">\n",
       "      <th></th>\n",
       "      <th>Pregnancies</th>\n",
       "      <th>Glucose</th>\n",
       "      <th>BloodPressure</th>\n",
       "      <th>SkinThickness</th>\n",
       "      <th>Insulin</th>\n",
       "      <th>BMI</th>\n",
       "      <th>DiabetesPedigreeFunction</th>\n",
       "      <th>Age</th>\n",
       "      <th>Outcome</th>\n",
       "    </tr>\n",
       "  </thead>\n",
       "  <tbody>\n",
       "    <tr>\n",
       "      <th>0</th>\n",
       "      <td>6</td>\n",
       "      <td>148</td>\n",
       "      <td>72</td>\n",
       "      <td>35</td>\n",
       "      <td>0</td>\n",
       "      <td>33.6</td>\n",
       "      <td>0.627</td>\n",
       "      <td>50</td>\n",
       "      <td>1</td>\n",
       "    </tr>\n",
       "    <tr>\n",
       "      <th>1</th>\n",
       "      <td>1</td>\n",
       "      <td>85</td>\n",
       "      <td>66</td>\n",
       "      <td>29</td>\n",
       "      <td>0</td>\n",
       "      <td>26.6</td>\n",
       "      <td>0.351</td>\n",
       "      <td>31</td>\n",
       "      <td>0</td>\n",
       "    </tr>\n",
       "    <tr>\n",
       "      <th>2</th>\n",
       "      <td>8</td>\n",
       "      <td>183</td>\n",
       "      <td>64</td>\n",
       "      <td>0</td>\n",
       "      <td>0</td>\n",
       "      <td>23.3</td>\n",
       "      <td>0.672</td>\n",
       "      <td>32</td>\n",
       "      <td>1</td>\n",
       "    </tr>\n",
       "    <tr>\n",
       "      <th>3</th>\n",
       "      <td>1</td>\n",
       "      <td>89</td>\n",
       "      <td>66</td>\n",
       "      <td>23</td>\n",
       "      <td>94</td>\n",
       "      <td>28.1</td>\n",
       "      <td>0.167</td>\n",
       "      <td>21</td>\n",
       "      <td>0</td>\n",
       "    </tr>\n",
       "    <tr>\n",
       "      <th>4</th>\n",
       "      <td>0</td>\n",
       "      <td>137</td>\n",
       "      <td>40</td>\n",
       "      <td>35</td>\n",
       "      <td>168</td>\n",
       "      <td>43.1</td>\n",
       "      <td>2.288</td>\n",
       "      <td>33</td>\n",
       "      <td>1</td>\n",
       "    </tr>\n",
       "  </tbody>\n",
       "</table>\n",
       "</div>"
      ],
      "text/plain": [
       "   Pregnancies  Glucose  BloodPressure  SkinThickness  Insulin   BMI  \\\n",
       "0            6      148             72             35        0  33.6   \n",
       "1            1       85             66             29        0  26.6   \n",
       "2            8      183             64              0        0  23.3   \n",
       "3            1       89             66             23       94  28.1   \n",
       "4            0      137             40             35      168  43.1   \n",
       "\n",
       "   DiabetesPedigreeFunction  Age  Outcome  \n",
       "0                     0.627   50        1  \n",
       "1                     0.351   31        0  \n",
       "2                     0.672   32        1  \n",
       "3                     0.167   21        0  \n",
       "4                     2.288   33        1  "
      ]
     },
     "execution_count": 2,
     "metadata": {},
     "output_type": "execute_result"
    }
   ],
   "source": [
    "df = pd.read_csv(\"diabetes.csv\")\n",
    "df.head()"
   ]
  },
  {
   "cell_type": "code",
   "execution_count": 3,
   "id": "3932d08a-fa7f-480b-ae2a-1587190c2949",
   "metadata": {},
   "outputs": [],
   "source": [
    "X = df.drop(\"Outcome\", axis=1)\n",
    "y = df[\"Outcome\"]"
   ]
  },
  {
   "cell_type": "code",
   "execution_count": 4,
   "id": "baa0308e-41b2-47f6-90e3-a11f727f711d",
   "metadata": {},
   "outputs": [],
   "source": [
    "X_train, X_test, y_train, y_test = train_test_split(X, y, test_size=0.2, random_state=42)"
   ]
  },
  {
   "cell_type": "code",
   "execution_count": 5,
   "id": "52f51437-4c5c-4f7a-8d9b-5b956d9d73f9",
   "metadata": {},
   "outputs": [],
   "source": [
    "def evaluate_model(name, model):\n",
    "    y_pred = model.predict(X_test)\n",
    "    print(f\"\\n{name} Evaluation:\")\n",
    "    print(f\"Accuracy: {accuracy_score(y_test, y_pred):.4f}\")\n",
    "    print(f\"Precision: {precision_score(y_test, y_pred):.4f}\")\n",
    "    print(f\"Recall: {recall_score(y_test, y_pred):.4f}\")\n",
    "    print(f\"F1 Score: {f1_score(y_test, y_pred):.4f}\")"
   ]
  },
  {
   "cell_type": "code",
   "execution_count": 6,
   "id": "ba576c8a-de82-49c6-b2ca-678c2c858e9c",
   "metadata": {},
   "outputs": [
    {
     "name": "stdout",
     "output_type": "stream",
     "text": [
      "Base model training\n",
      "\n",
      "Logistic Regression Evaluation:\n",
      "Accuracy: 0.7468\n",
      "Precision: 0.6379\n",
      "Recall: 0.6727\n",
      "F1 Score: 0.6549\n",
      "\n",
      "Random Forest Evaluation:\n",
      "Accuracy: 0.7403\n",
      "Precision: 0.6415\n",
      "Recall: 0.6182\n",
      "F1 Score: 0.6296\n",
      "\n",
      "SVM Evaluation:\n",
      "Accuracy: 0.7662\n",
      "Precision: 0.7209\n",
      "Recall: 0.5636\n",
      "F1 Score: 0.6327\n"
     ]
    }
   ],
   "source": [
    "models = {\n",
    "    \"Logistic Regression\": LogisticRegression(max_iter=1000),\n",
    "    \"Random Forest\": RandomForestClassifier(),\n",
    "    \"SVM\": SVC()\n",
    "}\n",
    "\n",
    "print(\"Base model training\")\n",
    "for name, model in models.items():\n",
    "    model.fit(X_train, y_train)\n",
    "    evaluate_model(name, model)"
   ]
  },
  {
   "cell_type": "code",
   "execution_count": 7,
   "id": "7bb38088-da2e-4e28-b9f0-a94514d6177e",
   "metadata": {},
   "outputs": [
    {
     "name": "stdout",
     "output_type": "stream",
     "text": [
      "\n",
      "Tuned Random Forest Evaluation:\n",
      "Accuracy: 0.7597\n",
      "Precision: 0.6607\n",
      "Recall: 0.6727\n",
      "F1 Score: 0.6667\n"
     ]
    }
   ],
   "source": [
    "param_grid_rf = {\n",
    "    'n_estimators': [50, 100, 200],\n",
    "    'max_depth': [None, 5, 10]\n",
    "}\n",
    "grid_rf = GridSearchCV(RandomForestClassifier(), param_grid_rf, cv=5, scoring='f1')\n",
    "grid_rf.fit(X_train, y_train)\n",
    "best_rf = grid_rf.best_estimator_\n",
    "evaluate_model(\"Tuned Random Forest\", best_rf)"
   ]
  },
  {
   "cell_type": "code",
   "execution_count": 8,
   "id": "c9202988-6c21-4b0e-932e-f05c367587ef",
   "metadata": {},
   "outputs": [
    {
     "name": "stdout",
     "output_type": "stream",
     "text": [
      "\n",
      "Tuned SVM Evaluation:\n",
      "Accuracy: 0.6429\n",
      "Precision: 0.5000\n",
      "Recall: 0.4545\n",
      "F1 Score: 0.4762\n"
     ]
    }
   ],
   "source": [
    "from scipy.stats import loguniform\n",
    "param_dist_svc = {\n",
    "    'C': loguniform(0.1, 100),\n",
    "    'gamma': loguniform(0.001, 0.1),\n",
    "    'kernel': ['rbf']\n",
    "}\n",
    "random_svc = RandomizedSearchCV(SVC(), param_distributions=param_dist_svc, n_iter=10,\n",
    "                                cv=5, scoring='f1', random_state=42)\n",
    "random_svc.fit(X_train, y_train)\n",
    "best_svc = random_svc.best_estimator_\n",
    "evaluate_model(\"Tuned SVM\", best_svc)"
   ]
  },
  {
   "cell_type": "code",
   "execution_count": 9,
   "id": "b2e2bb87-af13-494d-9397-0c2c9df82551",
   "metadata": {},
   "outputs": [
    {
     "name": "stdout",
     "output_type": "stream",
     "text": [
      "\n",
      "Final Comparison:\n",
      "\n",
      "Logistic Regression Evaluation:\n",
      "Accuracy: 0.7468\n",
      "Precision: 0.6379\n",
      "Recall: 0.6727\n",
      "F1 Score: 0.6549\n",
      "\n",
      "Tuned Random Forest Evaluation:\n",
      "Accuracy: 0.7597\n",
      "Precision: 0.6607\n",
      "Recall: 0.6727\n",
      "F1 Score: 0.6667\n",
      "\n",
      "Tuned SVM Evaluation:\n",
      "Accuracy: 0.6429\n",
      "Precision: 0.5000\n",
      "Recall: 0.4545\n",
      "F1 Score: 0.4762\n"
     ]
    }
   ],
   "source": [
    "print(\"\\nFinal Comparison:\")\n",
    "models_final = {\n",
    "    \"Logistic Regression\": models[\"Logistic Regression\"],\n",
    "    \"Tuned Random Forest\": best_rf,\n",
    "    \"Tuned SVM\": best_svc\n",
    "}\n",
    "for name, model in models_final.items():\n",
    "    evaluate_model(name, model)"
   ]
  }
 ],
 "metadata": {
  "kernelspec": {
   "display_name": "Python 3 (ipykernel)",
   "language": "python",
   "name": "python3"
  },
  "language_info": {
   "codemirror_mode": {
    "name": "ipython",
    "version": 3
   },
   "file_extension": ".py",
   "mimetype": "text/x-python",
   "name": "python",
   "nbconvert_exporter": "python",
   "pygments_lexer": "ipython3",
   "version": "3.12.4"
  }
 },
 "nbformat": 4,
 "nbformat_minor": 5
}
